{
 "cells": [
  {
   "cell_type": "markdown",
   "metadata": {},
   "source": [
    "## Extract Stocks and Index data from NSE using NSEPY"
   ]
  },
  {
   "cell_type": "markdown",
   "metadata": {},
   "source": [
    "#### https://nsepy.xyz/#nsepy-documentation"
   ]
  },
  {
   "cell_type": "code",
   "execution_count": 32,
   "metadata": {},
   "outputs": [],
   "source": [
    "import pandas as pd"
   ]
  },
  {
   "cell_type": "code",
   "execution_count": 18,
   "metadata": {},
   "outputs": [],
   "source": [
    "#!pip3 install nsepy"
   ]
  },
  {
   "cell_type": "code",
   "execution_count": 33,
   "metadata": {
    "scrolled": true
   },
   "outputs": [],
   "source": [
    "from nsepy import get_history"
   ]
  },
  {
   "cell_type": "code",
   "execution_count": 34,
   "metadata": {},
   "outputs": [],
   "source": [
    "from datetime import date"
   ]
  },
  {
   "cell_type": "code",
   "execution_count": 35,
   "metadata": {},
   "outputs": [],
   "source": [
    "#Extract index data\n",
    "symbol = ['NIFTY SMLCAP 100','NIFTY SMLCAP 250','NIFTY SMLCAP 50','NIFTY MIDCAP 150','NIFTY 50','NIFTY NEXT 50']\n",
    "data1 = []\n",
    "data1 = pd.DataFrame(data1)"
   ]
  },
  {
   "cell_type": "code",
   "execution_count": 36,
   "metadata": {},
   "outputs": [
    {
     "name": "stdout",
     "output_type": "stream",
     "text": [
      "NIFTY SMLCAP 100\n",
      "NIFTY SMLCAP 250\n",
      "NIFTY SMLCAP 50\n",
      "NIFTY MIDCAP 150\n",
      "NIFTY 50\n",
      "NIFTY NEXT 50\n"
     ]
    }
   ],
   "source": [
    "for x in symbol:\n",
    "    data = get_history(symbol=x,start=date(2019,1,1),end=date(2020,12,31),index=True)\n",
    "    data = pd.DataFrame(data)\n",
    "    data['Index_Name'] = x\n",
    "    data1 = pd.concat([data1,data])\n",
    "    print(x)"
   ]
  },
  {
   "cell_type": "code",
   "execution_count": 37,
   "metadata": {},
   "outputs": [],
   "source": [
    "#save index data\n",
    "data1.to_csv('Index_Data.csv',index=True)"
   ]
  },
  {
   "cell_type": "code",
   "execution_count": 48,
   "metadata": {},
   "outputs": [],
   "source": [
    "#Extract stock data\n",
    "symbol = ['3MINDIA','AARTIDRUGS','AARTIIND','ABB','ABBOTTINDIA']"
   ]
  },
  {
   "cell_type": "code",
   "execution_count": 55,
   "metadata": {},
   "outputs": [
    {
     "name": "stdout",
     "output_type": "stream",
     "text": [
      "3MINDIA\n",
      "AARTIDRUGS\n",
      "AARTIIND\n",
      "ABB\n",
      "ABBOTTINDIA\n"
     ]
    }
   ],
   "source": [
    "data1 = []\n",
    "data1 = pd.DataFrame(data1)\n",
    "for x in symbol:\n",
    "    data = get_history(symbol=x,start=date(2019,1,1),end=date(2020,12,31))\n",
    "    data = pd.DataFrame(data)\n",
    "    data1 = pd.concat([data1,data])\n",
    "    print(x)"
   ]
  },
  {
   "cell_type": "code",
   "execution_count": 56,
   "metadata": {},
   "outputs": [
    {
     "data": {
      "text/html": [
       "<div>\n",
       "<style scoped>\n",
       "    .dataframe tbody tr th:only-of-type {\n",
       "        vertical-align: middle;\n",
       "    }\n",
       "\n",
       "    .dataframe tbody tr th {\n",
       "        vertical-align: top;\n",
       "    }\n",
       "\n",
       "    .dataframe thead th {\n",
       "        text-align: right;\n",
       "    }\n",
       "</style>\n",
       "<table border=\"1\" class=\"dataframe\">\n",
       "  <thead>\n",
       "    <tr style=\"text-align: right;\">\n",
       "      <th></th>\n",
       "      <th>Symbol</th>\n",
       "      <th>Series</th>\n",
       "      <th>Prev Close</th>\n",
       "      <th>Open</th>\n",
       "      <th>High</th>\n",
       "      <th>Low</th>\n",
       "      <th>Last</th>\n",
       "      <th>Close</th>\n",
       "      <th>VWAP</th>\n",
       "      <th>Volume</th>\n",
       "      <th>Turnover</th>\n",
       "      <th>Trades</th>\n",
       "      <th>Deliverable Volume</th>\n",
       "      <th>%Deliverble</th>\n",
       "    </tr>\n",
       "    <tr>\n",
       "      <th>Date</th>\n",
       "      <th></th>\n",
       "      <th></th>\n",
       "      <th></th>\n",
       "      <th></th>\n",
       "      <th></th>\n",
       "      <th></th>\n",
       "      <th></th>\n",
       "      <th></th>\n",
       "      <th></th>\n",
       "      <th></th>\n",
       "      <th></th>\n",
       "      <th></th>\n",
       "      <th></th>\n",
       "      <th></th>\n",
       "    </tr>\n",
       "  </thead>\n",
       "  <tbody>\n",
       "    <tr>\n",
       "      <td>2019-01-01</td>\n",
       "      <td>3MINDIA</td>\n",
       "      <td>EQ</td>\n",
       "      <td>20824.40</td>\n",
       "      <td>20854.95</td>\n",
       "      <td>20870.00</td>\n",
       "      <td>20625.00</td>\n",
       "      <td>20675.00</td>\n",
       "      <td>20666.35</td>\n",
       "      <td>20750.86</td>\n",
       "      <td>517</td>\n",
       "      <td>1.072820e+12</td>\n",
       "      <td>302</td>\n",
       "      <td>290</td>\n",
       "      <td>0.5609</td>\n",
       "    </tr>\n",
       "    <tr>\n",
       "      <td>2019-01-02</td>\n",
       "      <td>3MINDIA</td>\n",
       "      <td>EQ</td>\n",
       "      <td>20666.35</td>\n",
       "      <td>20666.35</td>\n",
       "      <td>20666.35</td>\n",
       "      <td>19952.45</td>\n",
       "      <td>19980.00</td>\n",
       "      <td>19985.75</td>\n",
       "      <td>20024.56</td>\n",
       "      <td>8642</td>\n",
       "      <td>1.730522e+13</td>\n",
       "      <td>2543</td>\n",
       "      <td>4849</td>\n",
       "      <td>0.5611</td>\n",
       "    </tr>\n",
       "    <tr>\n",
       "      <td>2019-01-03</td>\n",
       "      <td>3MINDIA</td>\n",
       "      <td>EQ</td>\n",
       "      <td>19985.75</td>\n",
       "      <td>20160.00</td>\n",
       "      <td>20269.95</td>\n",
       "      <td>19801.60</td>\n",
       "      <td>19950.00</td>\n",
       "      <td>19990.25</td>\n",
       "      <td>19984.90</td>\n",
       "      <td>2402</td>\n",
       "      <td>4.800374e+12</td>\n",
       "      <td>968</td>\n",
       "      <td>1605</td>\n",
       "      <td>0.6682</td>\n",
       "    </tr>\n",
       "    <tr>\n",
       "      <td>2019-01-04</td>\n",
       "      <td>3MINDIA</td>\n",
       "      <td>EQ</td>\n",
       "      <td>19990.25</td>\n",
       "      <td>20011.40</td>\n",
       "      <td>20540.00</td>\n",
       "      <td>19997.00</td>\n",
       "      <td>20380.35</td>\n",
       "      <td>20357.40</td>\n",
       "      <td>20262.32</td>\n",
       "      <td>3891</td>\n",
       "      <td>7.884071e+12</td>\n",
       "      <td>1557</td>\n",
       "      <td>1691</td>\n",
       "      <td>0.4346</td>\n",
       "    </tr>\n",
       "    <tr>\n",
       "      <td>2019-01-07</td>\n",
       "      <td>3MINDIA</td>\n",
       "      <td>EQ</td>\n",
       "      <td>20357.40</td>\n",
       "      <td>20699.45</td>\n",
       "      <td>20699.45</td>\n",
       "      <td>20350.00</td>\n",
       "      <td>20350.00</td>\n",
       "      <td>20388.25</td>\n",
       "      <td>20490.26</td>\n",
       "      <td>1121</td>\n",
       "      <td>2.296959e+12</td>\n",
       "      <td>606</td>\n",
       "      <td>840</td>\n",
       "      <td>0.7493</td>\n",
       "    </tr>\n",
       "  </tbody>\n",
       "</table>\n",
       "</div>"
      ],
      "text/plain": [
       "             Symbol Series  Prev Close      Open      High       Low  \\\n",
       "Date                                                                   \n",
       "2019-01-01  3MINDIA     EQ    20824.40  20854.95  20870.00  20625.00   \n",
       "2019-01-02  3MINDIA     EQ    20666.35  20666.35  20666.35  19952.45   \n",
       "2019-01-03  3MINDIA     EQ    19985.75  20160.00  20269.95  19801.60   \n",
       "2019-01-04  3MINDIA     EQ    19990.25  20011.40  20540.00  19997.00   \n",
       "2019-01-07  3MINDIA     EQ    20357.40  20699.45  20699.45  20350.00   \n",
       "\n",
       "                Last     Close      VWAP Volume      Turnover Trades  \\\n",
       "Date                                                                   \n",
       "2019-01-01  20675.00  20666.35  20750.86    517  1.072820e+12    302   \n",
       "2019-01-02  19980.00  19985.75  20024.56   8642  1.730522e+13   2543   \n",
       "2019-01-03  19950.00  19990.25  19984.90   2402  4.800374e+12    968   \n",
       "2019-01-04  20380.35  20357.40  20262.32   3891  7.884071e+12   1557   \n",
       "2019-01-07  20350.00  20388.25  20490.26   1121  2.296959e+12    606   \n",
       "\n",
       "           Deliverable Volume  %Deliverble  \n",
       "Date                                        \n",
       "2019-01-01                290       0.5609  \n",
       "2019-01-02               4849       0.5611  \n",
       "2019-01-03               1605       0.6682  \n",
       "2019-01-04               1691       0.4346  \n",
       "2019-01-07                840       0.7493  "
      ]
     },
     "execution_count": 56,
     "metadata": {},
     "output_type": "execute_result"
    }
   ],
   "source": [
    "data1.head()"
   ]
  },
  {
   "cell_type": "code",
   "execution_count": 57,
   "metadata": {},
   "outputs": [],
   "source": [
    "data1.to_csv('Stock_Data.csv',index=True)"
   ]
  },
  {
   "cell_type": "code",
   "execution_count": null,
   "metadata": {},
   "outputs": [],
   "source": []
  }
 ],
 "metadata": {
  "kernelspec": {
   "display_name": "Python 3",
   "language": "python",
   "name": "python3"
  },
  "language_info": {
   "codemirror_mode": {
    "name": "ipython",
    "version": 3
   },
   "file_extension": ".py",
   "mimetype": "text/x-python",
   "name": "python",
   "nbconvert_exporter": "python",
   "pygments_lexer": "ipython3",
   "version": "3.6.9"
  }
 },
 "nbformat": 4,
 "nbformat_minor": 2
}
